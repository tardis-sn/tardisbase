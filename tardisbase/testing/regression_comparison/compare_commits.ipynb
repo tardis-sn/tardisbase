{
 "cells": [
  {
   "cell_type": "markdown",
   "metadata": {},
   "source": [
    "# File Change Matrix Visualizer\n",
    "\n",
    "This notebook demonstrates the FileChangeMatrixVisualizer with proper pandas display configuration."
   ]
  },
  {
   "cell_type": "code",
   "execution_count": 1,
   "metadata": {},
   "outputs": [],
   "source": [
    "from pathlib import Path\n",
    "from tardisbase.testing.regression_comparison.compare import ReferenceComparer\n",
    "from tardisbase.testing.regression_comparison.run_tests import run_tests\n",
    "from tardisbase.testing.regression_comparison.visualize_files import (\n",
    "    FileChangeMatrixVisualizer, \n",
    ")"
   ]
  },
  {
   "cell_type": "code",
   "execution_count": 2,
   "metadata": {},
   "outputs": [],
   "source": [
    "# Configure pandas display options for better visualization\n",
    "import pandas as pd\n",
    "pd.set_option('display.max_colwidth', None)\n",
    "pd.set_option('display.width', None)\n",
    "pd.set_option('display.max_columns', None)\n",
    "pd.set_option('display.max_rows', None)"
   ]
  },
  {
   "cell_type": "code",
   "execution_count": 3,
   "metadata": {},
   "outputs": [],
   "source": [
    "# Configuration for the analysis\n",
    "config = {\n",
    "    \"tardis_repo_path\": \"/home/riddhi/workspace/tardis-main/tardis\",\n",
    "    \"regression_data_repo_path\": \"/home/riddhi/workspace/tardis-main/tardis-regression-data\",\n",
    "    \"branch\": \"master\",\n",
    "    \"n\": 3,\n",
    "    \"target_file\": \"tardis/spectrum/tests/test_spectrum_solver/test_spectrum_solver/TestSpectrumSolver.h5\",\n",
    "    \"commits\": [\"300e565e83112528faaa76e970057ffb1b13f743\", \"2a06fdfb60190bbd9b49ff572d78772607138660\", \"2d775dcd1c486227532f537fc41066e942000e56\"],  # Uncomment for specific commits\n",
    "    # \"commits\": commits.calculate_commits(n=10, gap=0, info=False), #Uncomment for n commits with custom gap\n",
    "    \"use_conda\": True,\n",
    "    \"conda_manager\": \"conda\"\n",
    "}"
   ]
  },
  {
   "cell_type": "markdown",
   "metadata": {},
   "source": [
    "## Option 1: Run tests to generate regression data commits\n",
    "\n",
    "Uncomment and run this cell if you want to generate new regression data commits:"
   ]
  },
  {
   "cell_type": "code",
   "execution_count": null,
   "metadata": {},
   "outputs": [],
   "source": [
    "processed_commits, regression_commits, original_head, target_file_path = run_tests(\n",
    "        config[\"tardis_repo_path\"], \n",
    "        config[\"regression_data_repo_path\"], \n",
    "        config[\"branch\"], config[\"target_file\"], \n",
    "        n=config[\"n\"], \n",
    "        use_conda=config[\"use_conda\"],\n",
    "        conda_manager=config[\"conda_manager\"]\n",
    "    )"
   ]
  },
  {
   "cell_type": "markdown",
   "metadata": {},
   "source": [
    "## Option 2: Use existing regression data commits\n",
    "\n",
    "Set your regression data commit hashes here:"
   ]
  },
  {
   "cell_type": "code",
   "execution_count": 4,
   "metadata": {},
   "outputs": [],
   "source": [
    "# Example regression commits - replace with your actual commit hashes\n",
    "regression_commits = [\"cb01559e8915db275bd13047ee8e68c7c5c3b6ce\",\n",
    "                     \"cc038d3315a8ae34de6f2c5a3a4058071f949a2b\",\n",
    "                     \"91671169db6f0390dedc659e8e08e6a3823cbdd0\"]\n",
    "\n",
    "# Optional: corresponding TARDIS commits (if these regression commits were generated from specific TARDIS commits)\n",
    "processed_commits = [\"e0cb6779fcf39d85d029dca7ac7bd1acdf771357\",\n",
    "                 \"ab4ef440d31737a76c702f0dec628c5e7c19fd3b\",\n",
    "                 \"92ba560a72dc1be067c076d285bb8bc3de35f8d7\"]"
   ]
  },
  {
   "cell_type": "markdown",
   "metadata": {},
   "source": [
    "## Visualize File Changes\n",
    "\n",
    "Create the visualizer and analyze the commits:"
   ]
  },
  {
   "cell_type": "code",
   "execution_count": 5,
   "metadata": {},
   "outputs": [],
   "source": [
    "# Create the visualizer\n",
    "# Case 1: Direct regression data commits (no TARDIS commits)\n",
    "# visualizer = FileChangeMatrixVisualizer(\n",
    "#     regression_repo_path=config[\"regression_data_repo_path\"],\n",
    "#     commits=regression_commits\n",
    "# )\n",
    "\n",
    "# Case 2: Regression data commits generated from TARDIS commits\n",
    "visualizer = FileChangeMatrixVisualizer(\n",
    "    regression_repo_path=config[\"regression_data_repo_path\"],\n",
    "    commits=regression_commits,\n",
    "    tardis_commits=processed_commits,\n",
    "    tardis_repo_path=config[\"tardis_repo_path\"]\n",
    ")"
   ]
  },
  {
   "cell_type": "code",
   "execution_count": null,
   "metadata": {},
   "outputs": [],
   "source": [
    "# Analyze the commits\n",
    "visualizer.analyze_commits()"
   ]
  },
  {
   "cell_type": "code",
   "execution_count": null,
   "metadata": {},
   "outputs": [],
   "source": [
    "# Display the file change matrix with pandas display configuration\n",
    "with pd.option_context('display.max_colwidth', None, 'display.width', None, \n",
    "                      'display.max_columns', None, 'display.max_rows', None):\n",
    "    visualizer.print_matrix()"
   ]
  },
  {
   "cell_type": "markdown",
   "metadata": {},
   "source": [
    "## Understanding the Output\n",
    "\n",
    "The visualizer shows:\n",
    "\n",
    "1. **Commit Information**: Details about each analyzed commit\n",
    "2. **Changed Files Matrix**: Files that changed in any commit with symbols:\n",
    "   - `•` (blue) = unchanged\n",
    "   - `*` (gold) = modified  \n",
    "   - `+` (green) = added\n",
    "   - `-` (red) = deleted\n",
    "   - `∅` (grey) = not present\n",
    "3. **Unchanged Files Table**: Files that remained unchanged across all commits\n",
    "4. **Legend**: Symbol meanings and colors\n",
    "\n",
    "The pandas display configuration ensures that:\n",
    "- Full file paths are shown without truncation\n",
    "- All columns and rows are displayed\n",
    "- Commit descriptions are fully visible"
   ]
  }
 ],
 "metadata": {
  "kernelspec": {
   "display_name": "Python 3",
   "language": "python",
   "name": "python3"
  },
  "language_info": {
   "codemirror_mode": {
    "name": "ipython",
    "version": 3
   },
   "file_extension": ".py",
   "mimetype": "text/x-python",
   "name": "python",
   "nbconvert_exporter": "python",
   "pygments_lexer": "ipython3",
   "version": "3.12.4"
  }
 },
 "nbformat": 4,
 "nbformat_minor": 4
}
