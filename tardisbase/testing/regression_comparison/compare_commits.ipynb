{
 "cells": [
  {
   "cell_type": "markdown",
   "metadata": {},
   "source": [
    "# Visualizing File Changes Across Commits\n",
    "\n",
    "This notebook demonstrates the MultiCommitCompare Class with proper pandas display configuration."
   ]
  },
  {
   "cell_type": "code",
   "execution_count": 1,
   "metadata": {},
   "outputs": [],
   "source": [
    "from tardisbase.testing.regression_comparison.run_tests import run_tests\n",
    "from tardisbase.testing.regression_comparison.visualize_files import MultiCommitCompare\n",
    "from tardisbase.testing.regression_comparison.util import get_last_n_commits\n",
    "import pandas as pd\n",
    "from IPython.display import display"
   ]
  },
  {
   "cell_type": "code",
   "execution_count": 2,
   "metadata": {},
   "outputs": [],
   "source": [
    "# Configure pandas display options for better visualization\n",
    "import pandas as pd\n",
    "pd.set_option('display.max_colwidth', None)\n",
    "pd.set_option('display.width', None)\n",
    "pd.set_option('display.max_columns', None)\n",
    "pd.set_option('display.max_rows', None)"
   ]
  },
  {
   "cell_type": "code",
   "execution_count": 3,
   "metadata": {},
   "outputs": [],
   "source": [
    "# Configuration for the analysis\n",
    "config = {\n",
    "    \"tardis_repo_path\": \"/home/riddhi/workspace/tardis-main/tardis\",\n",
    "    \"regression_data_repo_path\": \"/home/riddhi/workspace/tardis-main/tardis-regression-data\",\n",
    "    \"branch\": \"master\",\n",
    "    \"n\": 3,\n",
    "    \"target_file\": \"tardis/spectrum/tests/test_spectrum_solver/test_spectrum_solver/TestSpectrumSolver.h5\",\n",
    "    \"commits\": [\"300e565e83112528faaa76e970057ffb1b13f743\", \"2a06fdfb60190bbd9b49ff572d78772607138660\", \"2d775dcd1c486227532f537fc41066e942000e56\"],  # Uncomment for specific commits\n",
    "    # \"commits\": commits.calculate_commits(n=10, gap=0, info=False), #Uncomment for n commits with custom gap\n",
    "    \"use_conda\": True,\n",
    "    \"conda_manager\": \"conda\"\n",
    "}"
   ]
  },
  {
   "cell_type": "markdown",
   "metadata": {},
   "source": [
    "## Option 1: Run tests to generate regression data commits\n",
    "\n",
    "### Case 1: Test latest N TARDIS commits"
   ]
  },
  {
   "cell_type": "code",
   "execution_count": null,
   "metadata": {},
   "outputs": [],
   "source": [
    "processed_commits, regression_commits, original_head, target_file_path = run_tests(\n",
    "        config[\"tardis_repo_path\"], \n",
    "        config[\"regression_data_repo_path\"], \n",
    "        config[\"branch\"],\n",
    "        config[\"target_file\"], \n",
    "        n=config[\"n\"], \n",
    "        use_conda=config[\"use_conda\"],\n",
    "        conda_manager=config[\"conda_manager\"]\n",
    "    )"
   ]
  },
  {
   "cell_type": "markdown",
   "metadata": {},
   "source": [
    "### Case 2: Test specific TARDIS commits\n",
    "</br>When `commits_input` is a list of commit hashes"
   ]
  },
  {
   "cell_type": "code",
   "execution_count": 3,
   "metadata": {},
   "outputs": [],
   "source": [
    "# processed_commits, regression_commits, original_head, target_file_path = run_tests(\n",
    "#     config[\"tardis_repo_path\"], \n",
    "#     config[\"regression_data_repo_path\"], \n",
    "#     config[\"branch\"], \n",
    "#     config[\"target_file\"], \n",
    "#     commits_input=config[\"commits\"],\n",
    "#     use_conda=config[\"use_conda\"],\n",
    "#     conda_manager=config[\"conda_manager\"]\n",
    "# )"
   ]
  },
  {
   "cell_type": "markdown",
   "metadata": {},
   "source": [
    "## Option 2: Use existing regression data commits\n",
    "\n",
    "### A.  Manual Commit Selection"
   ]
  },
  {
   "cell_type": "code",
   "execution_count": 1,
   "metadata": {},
   "outputs": [],
   "source": [
    "# regression_commits = [\"66a96a847c873544babb7bf934040c86433a5962\",\n",
    "#                       \"d12d869bd2bb2038c9090852ee9ef998959f412d\",\n",
    "#                       \"b008a7180440a697ad5b54a9f77b692d4f71b120\",\n",
    "#                       \"a2a946a43d710c44bb3b08bcae69359fe13ed032\",\n",
    "#                       \"9404dc594563d9457e3ba91fcaa8400cae231801\"]"
   ]
  },
  {
   "cell_type": "markdown",
   "metadata": {},
   "source": [
    "### B.  Automatically fetch the most recent N commits from regression data repository"
   ]
  },
  {
   "cell_type": "code",
   "execution_count": 14,
   "metadata": {},
   "outputs": [],
   "source": [
    "# regression_commits = get_last_n_commits(n=2, repo_path=config[\"regression_data_repo_path\"])\n",
    "# regression_commits"
   ]
  },
  {
   "cell_type": "markdown",
   "metadata": {},
   "source": [
    "## Visualize File Changes\n",
    "Create a visualizer object to analyze file changes across commits.\n",
    "\n",
    "Case 1: Direct regression data commits (no TARDIS commits)"
   ]
  },
  {
   "cell_type": "code",
   "execution_count": 15,
   "metadata": {},
   "outputs": [],
   "source": [
    "# visualizer = MultiCommitCompare(\n",
    "#     regression_repo_path=config[\"regression_data_repo_path\"],\n",
    "#     commits=regression_commits,\n",
    "#     # file_extensions=('.h5', '.hdf5') # Uncomment to filter specific files\n",
    "# )\n"
   ]
  },
  {
   "cell_type": "markdown",
   "metadata": {},
   "source": [
    "Case 2: Regression data commits generated from TARDIS commits"
   ]
  },
  {
   "cell_type": "code",
   "execution_count": 5,
   "metadata": {},
   "outputs": [],
   "source": [
    "visualizer = MultiCommitCompare(\n",
    "    regression_repo_path=config[\"regression_data_repo_path\"],\n",
    "    commits=regression_commits,\n",
    "    tardis_commits=processed_commits,\n",
    "    tardis_repo_path=config[\"tardis_repo_path\"],\n",
    "    # file_extensions=('.h5', '.hdf5') # Uncomment to filter specific files\n",
    ")"
   ]
  },
  {
   "cell_type": "code",
   "execution_count": null,
   "metadata": {},
   "outputs": [],
   "source": [
    "# Analyze the commits\n",
    "visualizer.analyze_commits()"
   ]
  },
  {
   "cell_type": "markdown",
   "metadata": {},
   "source": [
    "### Display the file change matrix "
   ]
  },
  {
   "cell_type": "code",
   "execution_count": 7,
   "metadata": {},
   "outputs": [],
   "source": [
    "commit_info, legend, matrix = visualizer.get_analysis_results()"
   ]
  },
  {
   "cell_type": "code",
   "execution_count": null,
   "metadata": {},
   "outputs": [],
   "source": [
    "commit_info"
   ]
  },
  {
   "cell_type": "code",
   "execution_count": null,
   "metadata": {},
   "outputs": [],
   "source": [
    "legend"
   ]
  },
  {
   "cell_type": "code",
   "execution_count": null,
   "metadata": {},
   "outputs": [],
   "source": [
    "matrix"
   ]
  },
  {
   "cell_type": "code",
   "execution_count": null,
   "metadata": {},
   "outputs": [],
   "source": []
  }
 ],
 "metadata": {
  "kernelspec": {
   "display_name": "Python 3",
   "language": "python",
   "name": "python3"
  },
  "language_info": {
   "codemirror_mode": {
    "name": "ipython",
    "version": 3
   },
   "file_extension": ".py",
   "mimetype": "text/x-python",
   "name": "python",
   "nbconvert_exporter": "python",
   "pygments_lexer": "ipython3",
   "version": "3.12.4"
  }
 },
 "nbformat": 4,
 "nbformat_minor": 4
}
