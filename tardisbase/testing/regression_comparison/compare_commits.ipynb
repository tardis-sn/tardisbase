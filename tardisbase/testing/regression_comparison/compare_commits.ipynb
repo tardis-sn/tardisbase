{
 "cells": [
  {
   "cell_type": "markdown",
   "metadata": {
    "vscode": {
     "languageId": "plaintext"
    }
   },
   "source": [
    "### Compare_commit_range\n"
   ]
  },
  {
   "cell_type": "code",
   "execution_count": 1,
   "metadata": {},
   "outputs": [],
   "source": [
    "from pathlib import Path\n",
    "from tardisbase.testing.regression_comparison.compare import ReferenceComparer\n",
    "from tardisbase.testing.regression_comparison.run_tests import run_tests\n"
   ]
  },
  {
   "cell_type": "code",
   "execution_count": 2,
   "metadata": {},
   "outputs": [],
   "source": [
    "config = {\n",
    "    \"tardis_repo_path\": \"/home/riddhi/workspace/tardis-main/tardis\",\n",
    "    \"regression_data_repo_path\": \"/home/riddhi/workspace/tardis-main/tardis-regression-data\",\n",
    "    \"branch\": \"master\",\n",
    "    \"n\": 3,\n",
    "    \"target_file\": \"tardis/spectrum/tests/test_spectrum_solver/test_spectrum_solver/TestSpectrumSolver.h5\",\n",
    "    \"commits\": [\"300e565e83112528faaa76e970057ffb1b13f743\", \"2a06fdfb60190bbd9b49ff572d78772607138660\", \"2d775dcd1c486227532f537fc41066e942000e56\"],  # Uncomment for specific commits\n",
    "    # \"commits\": commits.calculate_commits(n=10, gap=0, info=False), #Uncomment for n commits with custom gap\n",
    "    \"use_conda\": True,\n",
    "    \"conda_manager\": \"micromamba\"\n",
    "}\n"
   ]
  },
  {
   "cell_type": "code",
   "execution_count": 3,
   "metadata": {},
   "outputs": [
    {
     "name": "stdout",
     "output_type": "stream",
     "text": [
      "Original HEAD of regression data repo: 84e768462f20f09fbccc05625cdcc1d8ffbe404c\n",
      "Processing commit 1/3: e0cb6779fcf39d85d029dca7ac7bd1acdf771357\n",
      "Creating conda environment: tardis-test-e0cb6779\n",
      "Creating conda environment: conda create --name tardis-test-e0cb6779 --file /home/riddhi/workspace/tardis-main/tardis/conda-linux-64.lock -y\n",
      "Installing TARDIS in environment: conda run -n tardis-test-e0cb6779 pip install -e /home/riddhi/workspace/tardis-main/tardis\n",
      "Running pytest command: conda run -n tardis-test-e0cb6779 python -m pytest tardis/spectrum/tests/test_spectrum_solver.py --tardis-regression-data=/home/riddhi/workspace/tardis-main/tardis-regression-data --generate-reference -x --disable-warnings\n",
      "Pytest stdout:\n",
      "\u001b[1m============================= test session starts ==============================\u001b[0m\n",
      "platform linux -- Python 3.13.2, pytest-8.3.5, pluggy-1.5.0\n",
      "rootdir: /home/riddhi/workspace/tardis-main/tardis\n",
      "configfile: pyproject.toml\n",
      "plugins: doctestplus-1.4.0, html-4.1.1, anyio-4.9.0, metadata-3.1.1, cov-6.0.0\n",
      "collected 4 items\n",
      "\n",
      "tardis/spectrum/tests/test_spectrum_solver.py \u001b[33ms\u001b[0m\u001b[33ms\u001b[0m\u001b[33ms\u001b[0m\u001b[33ms\u001b[0m\u001b[33m                       [100%]\u001b[0m\n",
      "\n",
      "\u001b[33m================= \u001b[33m\u001b[1m4 skipped\u001b[0m, \u001b[33m\u001b[1m10 warnings\u001b[0m\u001b[33m in 101.38s (0:01:41)\u001b[0m\u001b[33m ==================\u001b[0m\n",
      "\n",
      "\n",
      "Pytest stderr:\n",
      "\n",
      "Packets:   ████████████████████████████████████████████████████████████████████████████████500000/500000 [01:18<00:00, 6407.10it/s] \n",
      "\n",
      "Iterations:████████████████                                                                1/5 [01:18<05:12, 78.04s/it]\n",
      "\n",
      "\n",
      "Processing commit 2/3: ab4ef440d31737a76c702f0dec628c5e7c19fd3b\n",
      "Creating conda environment: tardis-test-ab4ef440\n",
      "Creating conda environment: conda create --name tardis-test-ab4ef440 --file /home/riddhi/workspace/tardis-main/tardis/conda-linux-64.lock -y\n",
      "Installing TARDIS in environment: conda run -n tardis-test-ab4ef440 pip install -e /home/riddhi/workspace/tardis-main/tardis\n",
      "Running pytest command: conda run -n tardis-test-ab4ef440 python -m pytest tardis/spectrum/tests/test_spectrum_solver.py --tardis-regression-data=/home/riddhi/workspace/tardis-main/tardis-regression-data --generate-reference -x --disable-warnings\n",
      "Pytest stdout:\n",
      "\u001b[1m============================= test session starts ==============================\u001b[0m\n",
      "platform linux -- Python 3.13.2, pytest-8.3.5, pluggy-1.5.0\n",
      "rootdir: /home/riddhi/workspace/tardis-main/tardis\n",
      "configfile: pyproject.toml\n",
      "plugins: doctestplus-1.4.0, html-4.1.1, anyio-4.9.0, metadata-3.1.1, cov-6.0.0\n",
      "collected 4 items\n",
      "\n",
      "tardis/spectrum/tests/test_spectrum_solver.py \u001b[33ms\u001b[0m\u001b[33ms\u001b[0m\u001b[33ms\u001b[0m\u001b[33ms\u001b[0m\u001b[33m                       [100%]\u001b[0m\n",
      "\n",
      "\u001b[33m================= \u001b[33m\u001b[1m4 skipped\u001b[0m, \u001b[33m\u001b[1m10 warnings\u001b[0m\u001b[33m in 104.02s (0:01:44)\u001b[0m\u001b[33m ==================\u001b[0m\n",
      "\n",
      "\n",
      "Pytest stderr:\n",
      "\n",
      "Packets:   ████████████████████████████████████████████████████████████████████████████████500000/500000 [01:20<00:00, 6187.23it/s] \n",
      "\n",
      "Iterations:████████████████                                                                1/5 [01:20<05:23, 80.81s/it]\n",
      "\n",
      "\n",
      "Processing commit 3/3: 92ba560a72dc1be067c076d285bb8bc3de35f8d7\n",
      "Creating conda environment: tardis-test-92ba560a\n",
      "Creating conda environment: conda create --name tardis-test-92ba560a --file /home/riddhi/workspace/tardis-main/tardis/conda-linux-64.lock -y\n",
      "Installing TARDIS in environment: conda run -n tardis-test-92ba560a pip install -e /home/riddhi/workspace/tardis-main/tardis\n",
      "Running pytest command: conda run -n tardis-test-92ba560a python -m pytest tardis/spectrum/tests/test_spectrum_solver.py --tardis-regression-data=/home/riddhi/workspace/tardis-main/tardis-regression-data --generate-reference -x --disable-warnings\n",
      "Pytest stdout:\n",
      "\u001b[1m============================= test session starts ==============================\u001b[0m\n",
      "platform linux -- Python 3.13.2, pytest-8.3.5, pluggy-1.5.0\n",
      "rootdir: /home/riddhi/workspace/tardis-main/tardis\n",
      "configfile: pyproject.toml\n",
      "plugins: doctestplus-1.4.0, html-4.1.1, anyio-4.9.0, metadata-3.1.1, cov-6.0.0\n",
      "collected 4 items\n",
      "\n",
      "tardis/spectrum/tests/test_spectrum_solver.py \u001b[33ms\u001b[0m\u001b[33ms\u001b[0m\u001b[33ms\u001b[0m\u001b[33ms\u001b[0m\u001b[33m                       [100%]\u001b[0m\n",
      "\n",
      "\u001b[33m================= \u001b[33m\u001b[1m4 skipped\u001b[0m, \u001b[33m\u001b[1m10 warnings\u001b[0m\u001b[33m in 101.63s (0:01:41)\u001b[0m\u001b[33m ==================\u001b[0m\n",
      "\n",
      "\n",
      "Pytest stderr:\n",
      "\n",
      "Packets:   ████████████████████████████████████████████████████████████████████████████████500000/500000 [01:18<00:00, 6389.02it/s] \n",
      "\n",
      "Iterations:████████████████                                                                1/5 [01:18<05:13, 78.26s/it]\n",
      "\n",
      "\n",
      "\n",
      "Processed Tardis Commits:\n",
      "e0cb6779fcf39d85d029dca7ac7bd1acdf771357\n",
      "ab4ef440d31737a76c702f0dec628c5e7c19fd3b\n",
      "92ba560a72dc1be067c076d285bb8bc3de35f8d7\n",
      "\n",
      "Regression Data Commits:\n",
      "e40503e6f25fd5c03485ea63433720808d7563f1\n",
      "b7ba5e74d1ec2850cbba8a19111d924add267631\n",
      "d08d8c0f05af65f6cb13202c5de92fb580b83f8d\n"
     ]
    }
   ],
   "source": [
    "processed_commits, regression_commits, original_head, target_file_path = run_tests(\n",
    "        config[\"tardis_repo_path\"], \n",
    "        config[\"regression_data_repo_path\"], \n",
    "        config[\"branch\"], config[\"target_file\"], \n",
    "        n=config[\"n\"], \n",
    "        use_conda=config[\"use_conda\"],\n",
    "        conda_manager=config[\"conda_manager\"]\n",
    "    )"
   ]
  },
  {
   "cell_type": "code",
   "execution_count": null,
   "metadata": {},
   "outputs": [],
   "source": []
  }
 ],
 "metadata": {
  "kernelspec": {
   "display_name": "tardis",
   "language": "python",
   "name": "python3"
  },
  "language_info": {
   "codemirror_mode": {
    "name": "ipython",
    "version": 3
   },
   "file_extension": ".py",
   "mimetype": "text/x-python",
   "name": "python",
   "nbconvert_exporter": "python",
   "pygments_lexer": "ipython3",
   "version": "3.12.4"
  }
 },
 "nbformat": 4,
 "nbformat_minor": 4
}
