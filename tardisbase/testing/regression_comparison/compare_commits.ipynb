{
 "cells": [
  {
   "cell_type": "markdown",
   "metadata": {},
   "source": [
    "# Visualizing File Changes Across Commits\n",
    "\n",
    "This notebook analyzes differences in files across multiple tardis-regression-data commits. There are two main approaches to get tardis-regression-data commits:\n",
    "\n",
    "### Method 1: Run pytest on tardis commits and generate regression commits (False commits)\n",
    "\n",
    "To fetch tardis commits, you have three options:\n",
    "\n",
    "- Run pytest on latest n tardis commits\n",
    "- Run pytest on str or list of multiple tardis commits\n",
    "\n",
    "### Method 2: Directly use tardis-regression-data repo commits\n",
    "\n",
    "To get those commits, you have two options:\n",
    "\n",
    "- Manually provide a list of multiple tardis-regression-data commits\n",
    "- Get last n tardis-regression-data commits\n",
    "\n",
    "### Note:\n",
    "By default this notebook runs pytest on latest n tardis commits and generates falsey regression commits to analyze difference."
   ]
  },
  {
   "cell_type": "code",
   "execution_count": null,
   "metadata": {},
   "outputs": [],
   "source": [
    "from tardisbase.testing.regression_comparison.run_tests import run_tests\n",
    "from tardisbase.testing.regression_comparison.visualize_files import MultiCommitCompare\n",
    "from tardisbase.testing.regression_comparison.util import get_last_n_commits\n",
    "import pandas as pd"
   ]
  },
  {
   "cell_type": "markdown",
   "metadata": {},
   "source": [
    "Display Configuration"
   ]
  },
  {
   "cell_type": "code",
   "execution_count": null,
   "metadata": {},
   "outputs": [],
   "source": [
    "# Configure pandas display options for better visualization\n",
    "pd.set_option('display.max_colwidth', None)\n",
    "pd.set_option('display.width', None)\n",
    "pd.set_option('display.max_columns', None)\n",
    "pd.set_option('display.max_rows', None)"
   ]
  },
  {
   "cell_type": "markdown",
   "metadata": {},
   "source": [
    "Setup Configuration"
   ]
  },
  {
   "cell_type": "code",
   "execution_count": null,
   "metadata": {},
   "outputs": [],
   "source": [
    "# Configuration for the analysis\n",
    "config = {\n",
    "    \"tardis_repo_path\": \"/home/riddhi/workspace/tardis-main/tardis\",\n",
    "    \"regression_data_repo_path\": \"/home/riddhi/workspace/tardis-main/tardis-regression-data\",\n",
    "    \"branch\": \"master\",\n",
    "    \"n\": 3, # Last n commits   \n",
    "    # \"commits\": [\"300e565e83112528faaa76e970057ffb1b13f743\", \"2a06fdfb60190bbd9b49ff572d78772607138660\", \"2d775dcd1c486227532f537fc41066e942000e56\"],  # Uncomment for specific commits\n",
    "    \"conda_manager\": \"conda\"\n",
    "}"
   ]
  },
  {
   "cell_type": "markdown",
   "metadata": {},
   "source": [
    "## Method 1: Run pytest on tardis commits to generate falsey regression data commits\n",
    "\n",
    "### Case 1: Test latest N TARDIS commits\n",
    "Important Note: \n",
    "1. Comment out `commits` from config\n",
    "2. Provide the value of `n` in config\n",
    "3. To forcely recreate new enviornment each time even when enviornment already exist, do `force_recreate` as `True`\n",
    "4. Either provide entire \"tardis\" module or selective path like \"tardis/spectrum/tests/test_spectrum_solver.py\" in `test_path`\n",
    "5. Provide path to default current enviornment in `default_curr_env`\n",
    "6. If you want to use default current enviornment only without creating new enviornment each time, do `use_new_envs` as `False`."
   ]
  },
  {
   "cell_type": "code",
   "execution_count": null,
   "metadata": {},
   "outputs": [],
   "source": [
    "processed_commits, regression_commits, original_head = run_tests(\n",
    "        **config,\n",
    "        force_recreate=True,\n",
    "        test_path=\"tardis/spectrum/tests/test_spectrum_solver.py\",\n",
    "        default_curr_env=\"/home/riddhigangbhoj/miniforge3/envs/tardis-master\",\n",
    "        use_new_envs=True\n",
    "    )"
   ]
  },
  {
   "cell_type": "markdown",
   "metadata": {},
   "source": [
    "### Case 2: Test specific TARDIS commits\n",
    "\n",
    "Important Note:\n",
    "1. Comment out `n` from config\n",
    "2. `commits_input` is list of `commits` hashes from config \n",
    "3. If tardis commits provided are [1,2,3,4] then the comparison would be [\"2-1\",\"3-2\",\"4-3\"] of the respective regression commits. So, make the list accordingly.\n",
    "4. To forcely recreate new enviornment each time even when enviornment already exist, do `force_recreate` as `True`\n",
    "5. Either provide entire \"tardis\" module or selective path like \"tardis/spectrum/tests/test_spectrum_solver.py\" in `test_path`\n",
    "6. Provide path to default current enviornment in `default_curr_env`\n",
    "7. If you want to use default current enviornment only without creating new enviornment each time, do `use_new_envs` as `False`."
   ]
  },
  {
   "cell_type": "code",
   "execution_count": null,
   "metadata": {},
   "outputs": [],
   "source": [
    "# processed_commits, regression_commits, original_head = run_tests(\n",
    "#     **config, \n",
    "#     commits_input=config[\"commits\"],\n",
    "#     conda_manager=config[\"conda_manager\"],\n",
    "#     force_recreate=True,\n",
    "#     test_path=\"tardis/spectrum/tests/test_spectrum_solver.py\",\n",
    "#     default_curr_env=\"/home/riddhigangbhoj/miniforge3/envs/tardis-master\",\n",
    "#     use_new_envs=True\n",
    "# )"
   ]
  },
  {
   "cell_type": "markdown",
   "metadata": {},
   "source": [
    "## Method 2: Use existing regression data commits\n",
    "\n",
    "### A.  Manual Commit Selection\n",
    "Note:\n",
    "1. No need to run pytest for this.\n",
    "2. If commits provided are [1,2,3,4] then the comparison would be [\"2-1\",\"3-2\",\"4-3\"]. So, make the list accordingly."
   ]
  },
  {
   "cell_type": "code",
   "execution_count": null,
   "metadata": {},
   "outputs": [],
   "source": [
    "# regression_commits = [\"66a96a847c873544babb7bf934040c86433a5962\",\n",
    "#                       \"d12d869bd2bb2038c9090852ee9ef998959f412d\",\n",
    "#                       \"b008a7180440a697ad5b54a9f77b692d4f71b120\",\n",
    "#                       \"a2a946a43d710c44bb3b08bcae69359fe13ed032\",\n",
    "#                       \"9404dc594563d9457e3ba91fcaa8400cae231801\"]"
   ]
  },
  {
   "cell_type": "markdown",
   "metadata": {},
   "source": [
    "### B.  Automatically fetch the most recent N commits from regression data repository\n",
    "Note:\n",
    "1. No need to run pytest for this.\n",
    "2. Set `n` to the number of recent regression commits you want to fetch."
   ]
  },
  {
   "cell_type": "code",
   "execution_count": null,
   "metadata": {},
   "outputs": [],
   "source": [
    "# regression_commits = get_last_n_commits(n=2, repo_path=config[\"regression_data_repo_path\"])\n",
    "# regression_commits"
   ]
  },
  {
   "cell_type": "markdown",
   "metadata": {},
   "source": [
    "## Visualize File Changes\n",
    "Create a visualizer object to analyze file changes across commits.\n",
    "Note:\n",
    "1. Uncomment and set `file_extensions` to any type of file type to filter specific files.\n",
    "2. Choose `compare_function` of your choice either \"git_diff\" or \"cmd_diff\"\n",
    "    - 'git_diff': Uses git's built-in diff functionality to compare files\n",
    "          directly within the repository.\n",
    "    - 'cmd_diff': Extracts files to temporary locations and uses the\n",
    "          system's diff command.\n",
    "\n",
    "#### Case 1: Direct regression data commits (no TARDIS commits)\n",
    "Use when you are directly providing regression commits.\n"
   ]
  },
  {
   "cell_type": "code",
   "execution_count": null,
   "metadata": {},
   "outputs": [],
   "source": [
    "# visualizer = MultiCommitCompare(\n",
    "#     regression_repo_path=config[\"regression_data_repo_path\"],\n",
    "#     commits=regression_commits,\n",
    "#     # file_extensions=('.h5', '.hdf5') # Uncomment to filter specific files\n",
    "#     compare_function=\"git_diff\"\n",
    "# )\n"
   ]
  },
  {
   "cell_type": "markdown",
   "metadata": {},
   "source": [
    "#### Case 2: Regression data commits generated from TARDIS commits\n",
    "Use when you are providing tardis comits.\n",
    "Note:\n",
    "1. These regression commits are falsey commits(created just for testing)."
   ]
  },
  {
   "cell_type": "code",
   "execution_count": null,
   "metadata": {},
   "outputs": [],
   "source": [
    "visualizer = MultiCommitCompare(\n",
    "    regression_repo_path=config[\"regression_data_repo_path\"],\n",
    "    commits=regression_commits,\n",
    "    tardis_commits=processed_commits,\n",
    "    tardis_repo_path=config[\"tardis_repo_path\"],\n",
    "    # file_extensions=('.h5', '.hdf5') # Uncomment to filter specific files\n",
    "    compare_function=\"git_diff\"\n",
    ")"
   ]
  },
  {
   "cell_type": "markdown",
   "metadata": {},
   "source": [
    "### Analyze the commits"
   ]
  },
  {
   "cell_type": "code",
   "execution_count": null,
   "metadata": {},
   "outputs": [],
   "source": [
    "visualizer.analyze_commits()"
   ]
  },
  {
   "cell_type": "markdown",
   "metadata": {},
   "source": [
    "### Display the file change matrix "
   ]
  },
  {
   "cell_type": "code",
   "execution_count": null,
   "metadata": {},
   "outputs": [],
   "source": [
    "commit_info, legend, matrix = visualizer.get_analysis_results()"
   ]
  },
  {
   "cell_type": "code",
   "execution_count": null,
   "metadata": {},
   "outputs": [],
   "source": [
    "commit_info"
   ]
  },
  {
   "cell_type": "code",
   "execution_count": null,
   "metadata": {},
   "outputs": [],
   "source": [
    "legend"
   ]
  },
  {
   "cell_type": "code",
   "execution_count": null,
   "metadata": {},
   "outputs": [],
   "source": [
    "matrix"
   ]
  }
 ],
 "metadata": {
  "kernelspec": {
   "display_name": "tardis",
   "language": "python",
   "name": "python3"
  },
  "language_info": {
   "codemirror_mode": {
    "name": "ipython",
    "version": 3
   },
   "file_extension": ".py",
   "mimetype": "text/x-python",
   "name": "python",
   "nbconvert_exporter": "python",
   "pygments_lexer": "ipython3",
   "version": "3.12.4"
  }
 },
 "nbformat": 4,
 "nbformat_minor": 4
}
