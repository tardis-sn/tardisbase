{
 "cells": [
  {
   "cell_type": "code",
   "execution_count": null,
   "id": "01b39d21-cb87-420d-b65b-9d2460be3c28",
   "metadata": {},
   "outputs": [],
   "source": [
    "from pathlib import Path\n",
    "from tardisbase.testing.regression_comparison.compare import ReferenceComparer, get_last_two_commits"
   ]
  },
  {
   "cell_type": "markdown",
   "id": "44e4b00d",
   "metadata": {},
   "source": [
    "# Find commits to compare\n",
    "\n",
    "By default, the notebook compares last two commits(`ref1hash` is the older one and `ref2hash` is the newer one). You can customise this by changing the `ref1_hash` and `ref2_hash` variables or by providing `REF1_HASH` and `REF2_HASH` commit values. You can also provide custom spectrum paths for the two hashes with respect to the root directory for that commit. "
   ]
  },
  {
   "cell_type": "code",
   "execution_count": null,
   "id": "e7138950",
   "metadata": {},
   "outputs": [],
   "source": [
    "import os\n",
    "\n",
    "ref1_hash = os.getenv('REF1_HASH')\n",
    "ref2_hash = os.getenv('REF2_HASH')\n",
    "\n",
    "if not (ref1_hash and ref2_hash):\n",
    "    ref1_hash, ref2_hash = get_last_two_commits()\n",
    "\n",
    "if not (ref1_hash and ref2_hash):\n",
    "    raise ValueError(\"Could not get commit hashes.\")\n",
    "    \n",
    "\n",
    "if os.getenv('CUSTOM_REF1_SPECTRUM_PATH'):\n",
    "    custom_ref1_spectrum_path = os.getenv('CUSTOM_REF1_SPECTRUM_PATH')\n",
    "else:\n",
    "    custom_ref1_spectrum_path = 'tardis/spectrum/tests/test_spectrum_solver/test_spectrum_solver/TestSpectrumSolver.h5'\n",
    "\n",
    "if os.getenv('CUSTOM_REF2_SPECTRUM_PATH'):\n",
    "    custom_ref2_spectrum_path = os.getenv('CUSTOM_REF2_SPECTRUM_PATH')\n",
    "else:\n",
    "    custom_ref2_spectrum_path = 'tardis/spectrum/tests/test_spectrum_solver/test_spectrum_solver/TestSpectrumSolver.h5'\n"
   ]
  },
  {
   "cell_type": "code",
   "execution_count": null,
   "id": "e72560c4",
   "metadata": {},
   "outputs": [],
   "source": [
    "ref1_hash, ref2_hash"
   ]
  },
  {
   "cell_type": "markdown",
   "id": "09af62a7",
   "metadata": {},
   "source": [
    "# Example Values\n",
    "\n",
    "Below are example values you can test the notebook with."
   ]
  },
  {
   "cell_type": "code",
   "execution_count": null,
   "id": "da5b9971",
   "metadata": {},
   "outputs": [],
   "source": [
    "# ref1_hash=\"170f1a2c0d8c6db518a4b9a0f4cb9b657aaa61b6\"\n",
    "# ref2_hash=\"d9fd3bb659d185bd9ece10b8e2175cf497ea84c5\"\n",
    "# custom_ref1_spectrum_path = 'tardis/spectrum/tests/test_spectrum_solver/test_spectrum_solver/TestSpectrumSolver.h5'\n",
    "# custom_ref2_spectrum_path = 'test_spectrum_solver/test_spectrum_solver/TestSpectrumSolver.h5'"
   ]
  },
  {
   "cell_type": "markdown",
   "id": "66c835ca",
   "metadata": {},
   "source": [
    "# Initialise the `ReferenceComparer` class\n"
   ]
  },
  {
   "cell_type": "code",
   "execution_count": null,
   "id": "7dedb1f6-4962-499d-9a3f-94368cc181c0",
   "metadata": {
    "scrolled": true
   },
   "outputs": [],
   "source": [
    "comparer = ReferenceComparer(ref1_hash=ref1_hash, ref2_hash=ref2_hash, print_path=True)\n",
    "\n",
    "comparer.setup()\n",
    "comparer.diff_analyzer.display_diff_tree(comparer.dcmp)"
   ]
  },
  {
   "cell_type": "code",
   "execution_count": null,
   "id": "4e6567d0",
   "metadata": {
    "scrolled": true
   },
   "outputs": [],
   "source": [
    "comparer.compare()"
   ]
  },
  {
   "cell_type": "markdown",
   "id": "ea81f2fb",
   "metadata": {},
   "source": [
    "# Testing individual files\n",
    "\n",
    "You can compare individual files too. Below example would work if you used example commits."
   ]
  },
  {
   "cell_type": "code",
   "execution_count": 1,
   "id": "e52d89cc",
   "metadata": {
    "scrolled": true
   },
   "outputs": [],
   "source": [
    "# comparer.hdf_comparator.summarise_changes_hdf(\"test_generate_plot_ply__plotter_generate_plot_ply1__.h5\",\n",
    "#                                              Path(comparer.ref1_path) / \"tardis/visualization/tools/tests/test_liv_plot/test_liv_plotter\",\n",
    "#                                              Path(comparer.ref2_path) / \"tardis/visualization/tools/tests/test_liv_plot/test_liv_plotter\"\n",
    "#                                              )"
   ]
  },
  {
   "cell_type": "markdown",
   "id": "d5445fbc",
   "metadata": {},
   "source": [
    "# HDF File Comparison\n",
    "\n",
    "Below graph visualises all the HDF files that changed. Each block represents a key that changed, hovering on that block would show relative percentage change for that key."
   ]
  },
  {
   "cell_type": "code",
   "execution_count": null,
   "id": "d054216f",
   "metadata": {},
   "outputs": [],
   "source": [
    "fig_same_name = comparer.generate_graph(\"different keys same name\")\n",
    "fig_different_keys = comparer.generate_graph(\"different keys\")"
   ]
  },
  {
   "cell_type": "code",
   "execution_count": null,
   "id": "d6054581",
   "metadata": {},
   "outputs": [],
   "source": [
    "fig_different_keys"
   ]
  },
  {
   "cell_type": "code",
   "execution_count": null,
   "id": "7f72c4bc",
   "metadata": {},
   "outputs": [],
   "source": [
    "fig_same_name.layout.width = 1000\n",
    "fig_same_name"
   ]
  },
  {
   "cell_type": "markdown",
   "id": "7ba10944",
   "metadata": {},
   "source": [
    "# Spectrum Comparison\n",
    "\n",
    "You can compare TARDIS spectra for the two commits and also provide a custom path for the spectra."
   ]
  },
  {
   "cell_type": "code",
   "execution_count": null,
   "id": "d99bd0a9",
   "metadata": {
    "scrolled": true
   },
   "outputs": [],
   "source": [
    "comparer.compare_testspectrumsolver_hdf(\n",
    "    custom_ref1_path=Path(comparer.ref1_path) / custom_ref1_spectrum_path, \n",
    "    custom_ref2_path=Path(comparer.ref2_path) / custom_ref2_spectrum_path\n",
    ")"
   ]
  },
  {
   "cell_type": "code",
   "execution_count": null,
   "id": "560c4951-6942-49f1-8197-760840897cc6",
   "metadata": {},
   "outputs": [],
   "source": [
    "comparer.teardown()"
   ]
  }
 ],
 "metadata": {
  "kernelspec": {
   "display_name": "Python 3 (ipykernel)",
   "language": "python",
   "name": "python3"
  },
  "language_info": {
   "codemirror_mode": {
    "name": "ipython",
    "version": 3
   },
   "file_extension": ".py",
   "mimetype": "text/x-python",
   "name": "python",
   "nbconvert_exporter": "python",
   "pygments_lexer": "ipython3",
   "version": "3.12.4"
  },
  "varInspector": {
   "cols": {
    "lenName": 16,
    "lenType": 16,
    "lenVar": 40
   },
   "kernels_config": {
    "python": {
     "delete_cmd_postfix": "",
     "delete_cmd_prefix": "del ",
     "library": "var_list.py",
     "varRefreshCmd": "print(var_dic_list())"
    },
    "r": {
     "delete_cmd_postfix": ") ",
     "delete_cmd_prefix": "rm(",
     "library": "var_list.r",
     "varRefreshCmd": "cat(var_dic_list()) "
    }
   },
   "types_to_exclude": [
    "module",
    "function",
    "builtin_function_or_method",
    "instance",
    "_Feature"
   ],
   "window_display": false
  }
 },
 "nbformat": 4,
 "nbformat_minor": 5
}
